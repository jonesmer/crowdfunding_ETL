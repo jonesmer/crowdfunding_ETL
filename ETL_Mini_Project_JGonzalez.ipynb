{
 "cells": [
  {
   "cell_type": "code",
   "execution_count": 1,
   "id": "9e513fc8-734a-4459-bc92-57c3577fc4c6",
   "metadata": {},
   "outputs": [],
   "source": [
    "import pandas as pd"
   ]
  },
  {
   "cell_type": "code",
   "execution_count": 2,
   "id": "2cdec9c4-181b-4360-bbbe-fbd1a10faeb2",
   "metadata": {},
   "outputs": [],
   "source": [
    "#Load the crowdfunding.xlsx file using pandas\n",
    "path = r'C:\\Users\\Jonathan Gonzalez\\Documents\\BootCamp\\12-NoSQL-Databases\\Challenge2\\Starter_Files\\Resources\\crowdfunding.xlsx'\n",
    "crowdfunding_data = pd.read_excel(path)\n"
   ]
  },
  {
   "cell_type": "code",
   "execution_count": 4,
   "id": "34e8e7a8-8b2a-4acb-aa68-357d45283b40",
   "metadata": {},
   "outputs": [
    {
     "name": "stdout",
     "output_type": "stream",
     "text": [
      "Index(['cf_id', 'contact_id', 'company_name', 'blurb', 'goal', 'pledged',\n",
      "       'outcome', 'backers_count', 'country', 'currency', 'launched_at',\n",
      "       'deadline', 'staff_pick', 'spotlight', 'category & sub-category'],\n",
      "      dtype='object')\n"
     ]
    }
   ],
   "source": [
    "# Print the column names of the DataFrame\n",
    "print(crowdfunding_data.columns)\n"
   ]
  },
  {
   "cell_type": "code",
   "execution_count": 5,
   "id": "0f5a150d-f424-4970-a0e4-051c4ac3bd79",
   "metadata": {},
   "outputs": [],
   "source": [
    "#Parse Categories and Subcategories\n",
    "# Split 'category & sub-category' into two separate columns\n",
    "crowdfunding_data[['category', 'subcategory']] = crowdfunding_data['category & sub-category'].str.split(' & ', expand=True)\n"
   ]
  },
  {
   "cell_type": "code",
   "execution_count": 6,
   "id": "4220589b-ff33-495b-bc2d-ef7dd6215669",
   "metadata": {},
   "outputs": [],
   "source": [
    "#Create the Category DataFrame\n",
    "# Extract unique categories\n",
    "unique_categories = crowdfunding_data['category'].unique()\n",
    "\n",
    "# Create DataFrame\n",
    "category_df = pd.DataFrame({\n",
    "    'category_id': ['cat' + str(i+1) for i in range(len(unique_categories))],\n",
    "    'category': unique_categories\n",
    "})\n",
    "\n",
    "# Export to CSV\n",
    "category_df.to_csv('category.csv', index=False)\n"
   ]
  },
  {
   "cell_type": "code",
   "execution_count": 7,
   "id": "87af78fb-3eca-477e-87c1-20c1ee31182a",
   "metadata": {},
   "outputs": [],
   "source": [
    "#Create the Subcategory DataFrame\n",
    "# Extract unique subcategories\n",
    "unique_subcategories = crowdfunding_data['subcategory'].unique()\n",
    "\n",
    "# Create DataFrame\n",
    "subcategory_df = pd.DataFrame({\n",
    "    'subcategory_id': ['subcat' + str(i+1) for i in range(len(unique_subcategories))],\n",
    "    'subcategory': unique_subcategories\n",
    "})\n",
    "\n",
    "# Export to CSV\n",
    "subcategory_df.to_csv('subcategory.csv', index=False)\n"
   ]
  },
  {
   "cell_type": "code",
   "execution_count": null,
   "id": "8d84da26-7ee7-4504-bc07-95caaf722ea9",
   "metadata": {},
   "outputs": [],
   "source": []
  }
 ],
 "metadata": {
  "kernelspec": {
   "display_name": "Python 3 (ipykernel)",
   "language": "python",
   "name": "python3"
  },
  "language_info": {
   "codemirror_mode": {
    "name": "ipython",
    "version": 3
   },
   "file_extension": ".py",
   "mimetype": "text/x-python",
   "name": "python",
   "nbconvert_exporter": "python",
   "pygments_lexer": "ipython3",
   "version": "3.10.14"
  }
 },
 "nbformat": 4,
 "nbformat_minor": 5
}
